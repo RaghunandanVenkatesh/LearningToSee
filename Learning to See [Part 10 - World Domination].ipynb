{
 "cells": [
  {
   "cell_type": "markdown",
   "metadata": {},
   "source": [
    "<h1 align = 'center'> Learning To See </h1>\n",
    "\n",
    "<h2 align = 'center'> Part 10: World Domination </h2>"
   ]
  },
  {
   "cell_type": "markdown",
   "metadata": {},
   "source": [
    "## Import Data and Support Functions"
   ]
  },
  {
   "cell_type": "code",
   "execution_count": 1,
   "metadata": {},
   "outputs": [
    {
     "name": "stdout",
     "output_type": "stream",
     "text": [
      "Populating the interactive namespace from numpy and matplotlib\n"
     ]
    }
   ],
   "source": [
    "%pylab inline\n",
    "from supportFunctions import *\n",
    "import _pickle as pickle\n",
    "import time, itertools\n",
    "\n",
    "pickleFileName = 'data/fingerDataSet' + '.pickle'\n",
    "pickleFile = open(pickleFileName, 'rb')\n",
    "data = pickle.load(pickleFile)\n",
    "pickleFile.close()"
   ]
  },
  {
   "cell_type": "code",
   "execution_count": 2,
   "metadata": {},
   "outputs": [],
   "source": [
    "#Return to just using 3 images at training data:\n",
    "trainingExampleIndices = [7, 30, 46]\n",
    "trainingExamples = [data[index] for index in trainingExampleIndices]\n",
    "trainX, trainY = extractExamplesFromList(trainingExamples, whichImage = 'image1bit', dist = 4)\n",
    "\n",
    "#And two for testing:\n",
    "testingExampleIndices = [40, 41]\n",
    "testingExamples = [data[index] for index in testingExampleIndices]\n",
    "testX, testY = extractExamplesFromList(testingExamples, whichImage = 'image1bit', dist = 4)"
   ]
  },
  {
   "cell_type": "markdown",
   "metadata": {},
   "source": [
    "## Search for 2 pixel patterns, by considering all possible rules made by combining 2 pixels."
   ]
  },
  {
   "cell_type": "code",
   "execution_count": 4,
   "metadata": {},
   "outputs": [
    {
     "name": "stdout",
     "output_type": "stream",
     "text": [
      "Time elapsed = 4.488 seconds.\n"
     ]
    }
   ],
   "source": [
    "rules = []\n",
    "numErrors = []\n",
    "startTime = time.time()\n",
    "\n",
    "for i in range(81):\n",
    "    for j in range(81):\n",
    "        if i != j:\n",
    "            #Not i and not j:\n",
    "            yHat = np.logical_and(trainX[:,i] == 0, trainX[:,j]==0)\n",
    "            numErrors.append(sum(abs(yHat-trainY)))\n",
    "            rules.append([i, j, 0, 0])\n",
    "\n",
    "            #i and not j:\n",
    "            yHat = np.logical_and(trainX[:,i] == 1, trainX[:,j]==0)\n",
    "            numErrors.append(sum(abs(yHat-trainY)))\n",
    "            rules.append([i, j, 1, 0])\n",
    "\n",
    "            #not i and j\n",
    "            yHat = np.logical_and(trainX[:,i] == 0, trainX[:,j]==1)\n",
    "            numErrors.append(sum(abs(yHat-trainY)))\n",
    "            rules.append([i, j, 0, 1])\n",
    "\n",
    "            #i and j\n",
    "            yHat = np.logical_and(trainX[:,i] == 1, trainX[:,j]==1)\n",
    "            numErrors.append(sum(abs(yHat-trainY)))\n",
    "            rules.append([i, j, 1, 1])\n",
    "\n",
    "timeElapsed = time.time()-startTime\n",
    "print ('Time elapsed = ' + str(round(timeElapsed, 3)) + ' seconds.')"
   ]
  },
  {
   "cell_type": "code",
   "execution_count": 5,
   "metadata": {},
   "outputs": [
    {
     "data": {
      "text/plain": [
       "478"
      ]
     },
     "execution_count": 5,
     "metadata": {},
     "output_type": "execute_result"
    }
   ],
   "source": [
    "np.argmin(np.array(numErrors))"
   ]
  },
  {
   "cell_type": "code",
   "execution_count": 6,
   "metadata": {},
   "outputs": [
    {
     "data": {
      "text/plain": [
       "25920"
      ]
     },
     "execution_count": 6,
     "metadata": {},
     "output_type": "execute_result"
    }
   ],
   "source": [
    "len(rules)"
   ]
  },
  {
   "cell_type": "code",
   "execution_count": 7,
   "metadata": {},
   "outputs": [
    {
     "data": {
      "text/plain": [
       "25920"
      ]
     },
     "execution_count": 7,
     "metadata": {},
     "output_type": "execute_result"
    }
   ],
   "source": [
    "len(numErrors)"
   ]
  },
  {
   "cell_type": "code",
   "execution_count": 8,
   "metadata": {},
   "outputs": [
    {
     "data": {
      "text/plain": [
       "[1, 40, 0, 1]"
      ]
     },
     "execution_count": 8,
     "metadata": {},
     "output_type": "execute_result"
    }
   ],
   "source": [
    "rules[478]"
   ]
  },
  {
   "cell_type": "code",
   "execution_count": 9,
   "metadata": {},
   "outputs": [
    {
     "data": {
      "text/plain": [
       "<matplotlib.image.AxesImage at 0x1e015583e80>"
      ]
     },
     "execution_count": 9,
     "metadata": {},
     "output_type": "execute_result"
    },
    {
     "data": {
      "image/png": "[encoded data removed]",
      "text/plain": [
       "<Figure size 432x432 with 1 Axes>"
      ]
     },
     "metadata": {
      "needs_background": "light"
     },
     "output_type": "display_data"
    }
   ],
   "source": [
    "ruleVector = np.zeros(81)\n",
    "ruleVector[1] = -1\n",
    "ruleVector[40] = 1\n",
    "\n",
    "fig = figure(0, (6,6))\n",
    "imshow(ruleVector.reshape(9,9), interpolation = 'none', cmap = rwb)"
   ]
  },
  {
   "cell_type": "markdown",
   "metadata": {},
   "source": [
    "Our first two pixel rule! Examples with ones in the blue spot and zeros in the red spot will be labeled as fingers"
   ]
  },
  {
   "cell_type": "code",
   "execution_count": 10,
   "metadata": {},
   "outputs": [
    {
     "name": "stdout",
     "output_type": "stream",
     "text": [
      "Confusion Matrix:\n",
      "[[ 362  133]\n",
      " [ 345 7027]]\n",
      "Recall (TPR) = 0.731 (Portion of fingers that we \"caught\")\n",
      "Precision (PPV) = 0.512(Portion of predicted finger pixels that were actually finger pixels)\n",
      "Accuracy = 0.939\n"
     ]
    },
    {
     "data": {
      "image/png": "[encoded data removed]",
      "text/plain": [
       "<Figure size 1008x576 with 4 Axes>"
      ]
     },
     "metadata": {
      "needs_background": "light"
     },
     "output_type": "display_data"
    }
   ],
   "source": [
    "#Try our out rule on training Data:\n",
    "rule = lambda X: np.logical_and(X[:, 1] == 0, X[:,40] == 1)\n",
    "\n",
    "fig = figure(0, (14, 8))\n",
    "testLogicalRules(trainingExampleIndices, data, fig, trainX, trainY, rule)"
   ]
  },
  {
   "cell_type": "markdown",
   "metadata": {},
   "source": [
    "And testing data:"
   ]
  },
  {
   "cell_type": "code",
   "execution_count": 11,
   "metadata": {},
   "outputs": [
    {
     "name": "stdout",
     "output_type": "stream",
     "text": [
      "Confusion Matrix:\n",
      "[[ 254   87]\n",
      " [ 237 4296]]\n",
      "Recall (TPR) = 0.745 (Portion of fingers that we \"caught\")\n",
      "Precision (PPV) = 0.517(Portion of predicted finger pixels that were actually finger pixels)\n",
      "Accuracy = 0.934\n"
     ]
    },
    {
     "data": {
      "image/png": "[encoded data removed]",
      "text/plain": [
       "<Figure size 1008x576 with 3 Axes>"
      ]
     },
     "metadata": {
      "needs_background": "light"
     },
     "output_type": "display_data"
    }
   ],
   "source": [
    "fig = figure(0, (14, 8))\n",
    "testLogicalRules(testingExampleIndices, data, fig, testX, testY, rule)"
   ]
  },
  {
   "cell_type": "markdown",
   "metadata": {},
   "source": [
    "Generalizes Well! Now 3 pixels:"
   ]
  },
  {
   "cell_type": "code",
   "execution_count": 13,
   "metadata": {},
   "outputs": [
    {
     "name": "stdout",
     "output_type": "stream",
     "text": [
      "Time elapsed = 160.621 seconds.\n"
     ]
    }
   ],
   "source": [
    "import itertools\n",
    "\n",
    "rules = []\n",
    "numErrors = []\n",
    "startTime = time.time()\n",
    "\n",
    "for c in itertools.combinations(range(81), 3):\n",
    "    i = c[0]; j = c[1]; k = c[2]\n",
    "\n",
    "    yHat = np.logical_and(np.logical_and(trainX[:,i] == 0, trainX[:,j]==0), trainX[:,k]==0)\n",
    "    numErrors.append(sum(abs(yHat-trainY)))\n",
    "    rules.append([i, j, k, 0, 0, 0])\n",
    "\n",
    "    yHat = np.logical_and(np.logical_and(trainX[:,i] == 0, trainX[:,j]==0), trainX[:,k]==1)\n",
    "    numErrors.append(sum(abs(yHat-trainY)))\n",
    "    rules.append([i, j, k, 0, 0, 1])\n",
    "\n",
    "    yHat = np.logical_and(np.logical_and(trainX[:,i] == 0, trainX[:,j]==1), trainX[:,k]==0)\n",
    "    numErrors.append(sum(abs(yHat-trainY)))\n",
    "    rules.append([i, j, k, 0, 1, 0])\n",
    "\n",
    "    yHat = np.logical_and(np.logical_and(trainX[:,i] == 0, trainX[:,j]==1), trainX[:,k]==1)\n",
    "    numErrors.append(sum(abs(yHat-trainY)))\n",
    "    rules.append([i, j, k, 0, 1, 1])\n",
    "\n",
    "    yHat = np.logical_and(np.logical_and(trainX[:,i] == 1, trainX[:,j]==0), trainX[:,k]==0)\n",
    "    numErrors.append(sum(abs(yHat-trainY)))\n",
    "    rules.append([i, j, k, 1, 0, 0])\n",
    "\n",
    "    yHat = np.logical_and(np.logical_and(trainX[:,i] == 1, trainX[:,j]==0), trainX[:,k]==1)\n",
    "    numErrors.append(sum(abs(yHat-trainY)))\n",
    "    rules.append([i, j, k, 1, 0, 1])\n",
    "\n",
    "    yHat = np.logical_and(np.logical_and(trainX[:,i] == 1, trainX[:,j]==1), trainX[:,k]==0)\n",
    "    numErrors.append(sum(abs(yHat-trainY)))\n",
    "    rules.append([i, j, k, 1, 1, 0])\n",
    "\n",
    "    yHat = np.logical_and(np.logical_and(trainX[:,i] == 1, trainX[:,j]==1), trainX[:,k]==1)\n",
    "    numErrors.append(sum(abs(yHat-trainY)))\n",
    "    rules.append([i, j, k, 1, 1, 1])\n",
    "    \n",
    "timeElapsed = time.time()-startTime\n",
    "print ('Time elapsed = ' + str(round(timeElapsed, 3)) + ' seconds.')"
   ]
  },
  {
   "cell_type": "code",
   "execution_count": 14,
   "metadata": {},
   "outputs": [
    {
     "data": {
      "text/plain": [
       "218858"
      ]
     },
     "execution_count": 14,
     "metadata": {},
     "output_type": "execute_result"
    }
   ],
   "source": [
    "np.argmin(np.array(numErrors))"
   ]
  },
  {
   "cell_type": "code",
   "execution_count": 15,
   "metadata": {},
   "outputs": [
    {
     "data": {
      "text/plain": [
       "[9, 40, 53, 0, 1, 0]"
      ]
     },
     "execution_count": 15,
     "metadata": {},
     "output_type": "execute_result"
    }
   ],
   "source": [
    "rules[218858]"
   ]
  },
  {
   "cell_type": "code",
   "execution_count": 16,
   "metadata": {},
   "outputs": [
    {
     "data": {
      "text/plain": [
       "682560"
      ]
     },
     "execution_count": 16,
     "metadata": {},
     "output_type": "execute_result"
    }
   ],
   "source": [
    "len(rules)"
   ]
  },
  {
   "cell_type": "code",
   "execution_count": 17,
   "metadata": {},
   "outputs": [],
   "source": [
    "rule = lambda X: np.logical_and(np.logical_and(X[:, 9] == 0, X[:,40] == 1), X[:, 53] == 0)"
   ]
  },
  {
   "cell_type": "code",
   "execution_count": 18,
   "metadata": {},
   "outputs": [
    {
     "data": {
      "text/plain": [
       "<matplotlib.image.AxesImage at 0x1e015d188d0>"
      ]
     },
     "execution_count": 18,
     "metadata": {},
     "output_type": "execute_result"
    },
    {
     "data": {
      "image/png": "[encoded data removed]",
      "text/plain": [
       "<Figure size 432x432 with 1 Axes>"
      ]
     },
     "metadata": {
      "needs_background": "light"
     },
     "output_type": "display_data"
    }
   ],
   "source": [
    "ruleVector = np.zeros(81)\n",
    "ruleVector[9] = -1; ruleVector[40] = 1; ruleVector[53] = -1\n",
    "\n",
    "fig = figure(0, (6,6))\n",
    "imshow(ruleVector.reshape(9,9), interpolation = 'none', cmap = rwb)"
   ]
  },
  {
   "cell_type": "code",
   "execution_count": 19,
   "metadata": {},
   "outputs": [
    {
     "name": "stdout",
     "output_type": "stream",
     "text": [
      "Confusion Matrix:\n",
      "[[ 327  168]\n",
      " [  73 7299]]\n",
      "Recall (TPR) = 0.661 (Portion of fingers that we \"caught\")\n",
      "Precision (PPV) = 0.818(Portion of predicted finger pixels that were actually finger pixels)\n",
      "Accuracy = 0.969\n"
     ]
    },
    {
     "data": {
      "image/png": "[encoded data removed]",
      "text/plain": [
       "<Figure size 1008x576 with 4 Axes>"
      ]
     },
     "metadata": {
      "needs_background": "light"
     },
     "output_type": "display_data"
    }
   ],
   "source": [
    "fig = figure(0, (14, 8))\n",
    "testLogicalRules(trainingExampleIndices, data, fig, trainX, trainY, rule)"
   ]
  },
  {
   "cell_type": "code",
   "execution_count": 20,
   "metadata": {},
   "outputs": [
    {
     "name": "stdout",
     "output_type": "stream",
     "text": [
      "Confusion Matrix:\n",
      "[[ 226  115]\n",
      " [ 102 4431]]\n",
      "Recall (TPR) = 0.663 (Portion of fingers that we \"caught\")\n",
      "Precision (PPV) = 0.689(Portion of predicted finger pixels that were actually finger pixels)\n",
      "Accuracy = 0.955\n"
     ]
    },
    {
     "data": {
      "image/png": "[encoded data removed]",
      "text/plain": [
       "<Figure size 1008x576 with 3 Axes>"
      ]
     },
     "metadata": {
      "needs_background": "light"
     },
     "output_type": "display_data"
    }
   ],
   "source": [
    "fig = figure(0, (14, 8))\n",
    "testLogicalRules(testingExampleIndices, data, fig, testX, testY, rule)"
   ]
  },
  {
   "cell_type": "markdown",
   "metadata": {},
   "source": [
    "## But why stop there? 4 pixels!"
   ]
  },
  {
   "cell_type": "code",
   "execution_count": 28,
   "metadata": {},
   "outputs": [],
   "source": [
    "import operator as op\n",
    "from functools import reduce\n",
    "\n",
    "try:\n",
    "    # Python 2\n",
    "    xrange\n",
    "except NameError:\n",
    "    # Python 3, xrange is now named range\n",
    "    xrange = range\n",
    "    \n",
    "def ncr(n, r):\n",
    "    r = min(r, n-r)\n",
    "    if r == 0: return 1\n",
    "    numer = reduce(op.mul, xrange(n, n-r, -1))\n",
    "    denom = reduce(op.mul, xrange(1, r+1))\n",
    "    return numer//denom"
   ]
  },
  {
   "cell_type": "code",
   "execution_count": 29,
   "metadata": {},
   "outputs": [
    {
     "data": {
      "text/plain": [
       "1663740"
      ]
     },
     "execution_count": 29,
     "metadata": {},
     "output_type": "execute_result"
    }
   ],
   "source": [
    "ncr(81,4)"
   ]
  },
  {
   "cell_type": "code",
   "execution_count": 30,
   "metadata": {},
   "outputs": [
    {
     "name": "stdout",
     "output_type": "stream",
     "text": [
      "1.0% done! Time elapsed = 25.511 seconds.\n",
      "2.0% done! Time elapsed = 52.645 seconds.\n",
      "3.0% done! Time elapsed = 78.547 seconds.\n",
      "4.0% done! Time elapsed = 105.123 seconds.\n",
      "5.0% done! Time elapsed = 131.664 seconds.\n",
      "6.0% done! Time elapsed = 165.618 seconds.\n",
      "7.0% done! Time elapsed = 192.989 seconds.\n",
      "8.0% done! Time elapsed = 221.261 seconds.\n",
      "9.0% done! Time elapsed = 248.905 seconds.\n",
      "10.0% done! Time elapsed = 283.034 seconds.\n",
      "11.0% done! Time elapsed = 311.045 seconds.\n",
      "12.0% done! Time elapsed = 340.033 seconds.\n",
      "13.0% done! Time elapsed = 368.62 seconds.\n",
      "14.0% done! Time elapsed = 395.792 seconds.\n",
      "15.0% done! Time elapsed = 425.185 seconds.\n",
      "16.0% done! Time elapsed = 452.624 seconds.\n",
      "17.0% done! Time elapsed = 476.829 seconds.\n",
      "18.0% done! Time elapsed = 501.387 seconds.\n",
      "19.0% done! Time elapsed = 525.612 seconds.\n",
      "20.0% done! Time elapsed = 549.503 seconds.\n",
      "21.0% done! Time elapsed = 573.243 seconds.\n",
      "22.0% done! Time elapsed = 597.617 seconds.\n",
      "23.0% done! Time elapsed = 621.473 seconds.\n",
      "24.0% done! Time elapsed = 645.288 seconds.\n",
      "25.0% done! Time elapsed = 668.78 seconds.\n",
      "26.0% done! Time elapsed = 692.346 seconds.\n",
      "27.0% done! Time elapsed = 716.91 seconds.\n",
      "28.0% done! Time elapsed = 740.308 seconds.\n",
      "29.0% done! Time elapsed = 763.932 seconds.\n",
      "30.0% done! Time elapsed = 787.552 seconds.\n",
      "31.0% done! Time elapsed = 811.039 seconds.\n",
      "32.0% done! Time elapsed = 837.093 seconds.\n",
      "33.0% done! Time elapsed = 866.959 seconds.\n",
      "34.0% done! Time elapsed = 895.208 seconds.\n",
      "35.0% done! Time elapsed = 922.998 seconds.\n",
      "36.0% done! Time elapsed = 951.799 seconds.\n",
      "37.0% done! Time elapsed = 976.946 seconds.\n",
      "38.0% done! Time elapsed = 1001.832 seconds.\n",
      "39.0% done! Time elapsed = 1028.393 seconds.\n",
      "40.0% done! Time elapsed = 1052.663 seconds.\n",
      "41.0% done! Time elapsed = 1077.168 seconds.\n",
      "42.0% done! Time elapsed = 1101.365 seconds.\n",
      "43.0% done! Time elapsed = 1126.317 seconds.\n",
      "44.0% done! Time elapsed = 1150.258 seconds.\n",
      "45.0% done! Time elapsed = 1175.852 seconds.\n",
      "46.0% done! Time elapsed = 1205.757 seconds.\n",
      "47.0% done! Time elapsed = 1234.381 seconds.\n",
      "48.0% done! Time elapsed = 1264.211 seconds.\n",
      "49.0% done! Time elapsed = 1292.717 seconds.\n",
      "50.0% done! Time elapsed = 1318.113 seconds.\n",
      "51.0% done! Time elapsed = 1344.248 seconds.\n",
      "52.0% done! Time elapsed = 1369.798 seconds.\n",
      "53.0% done! Time elapsed = 1394.963 seconds.\n",
      "54.0% done! Time elapsed = 1419.428 seconds.\n",
      "55.0% done! Time elapsed = 1443.721 seconds.\n",
      "56.0% done! Time elapsed = 1467.873 seconds.\n",
      "57.0% done! Time elapsed = 1492.263 seconds.\n",
      "58.0% done! Time elapsed = 1516.83 seconds.\n",
      "59.0% done! Time elapsed = 1541.425 seconds.\n",
      "60.0% done! Time elapsed = 1565.675 seconds.\n",
      "61.0% done! Time elapsed = 1589.951 seconds.\n",
      "62.0% done! Time elapsed = 1614.001 seconds.\n",
      "63.0% done! Time elapsed = 1638.432 seconds.\n",
      "64.0% done! Time elapsed = 1663.846 seconds.\n",
      "65.0% done! Time elapsed = 1689.597 seconds.\n",
      "66.0% done! Time elapsed = 1716.065 seconds.\n",
      "67.0% done! Time elapsed = 1742.526 seconds.\n",
      "68.0% done! Time elapsed = 1767.586 seconds.\n",
      "69.0% done! Time elapsed = 1795.391 seconds.\n",
      "70.0% done! Time elapsed = 1820.431 seconds.\n",
      "71.0% done! Time elapsed = 1844.39 seconds.\n",
      "72.0% done! Time elapsed = 1868.351 seconds.\n",
      "73.0% done! Time elapsed = 1893.034 seconds.\n",
      "74.0% done! Time elapsed = 1917.686 seconds.\n",
      "75.0% done! Time elapsed = 1941.566 seconds.\n",
      "76.0% done! Time elapsed = 1966.02 seconds.\n",
      "77.0% done! Time elapsed = 1990.366 seconds.\n",
      "78.0% done! Time elapsed = 2014.666 seconds.\n",
      "79.0% done! Time elapsed = 2038.788 seconds.\n",
      "80.0% done! Time elapsed = 2062.989 seconds.\n",
      "81.0% done! Time elapsed = 2087.142 seconds.\n",
      "82.0% done! Time elapsed = 2110.983 seconds.\n",
      "83.0% done! Time elapsed = 2136.531 seconds.\n",
      "84.0% done! Time elapsed = 2160.549 seconds.\n",
      "85.0% done! Time elapsed = 2184.841 seconds.\n",
      "86.0% done! Time elapsed = 2208.419 seconds.\n",
      "87.0% done! Time elapsed = 2232.204 seconds.\n",
      "88.0% done! Time elapsed = 2255.909 seconds.\n",
      "89.0% done! Time elapsed = 2280.727 seconds.\n",
      "90.0% done! Time elapsed = 2304.843 seconds.\n",
      "91.0% done! Time elapsed = 2329.063 seconds.\n",
      "92.0% done! Time elapsed = 2352.78 seconds.\n",
      "93.0% done! Time elapsed = 2376.609 seconds.\n",
      "94.0% done! Time elapsed = 2400.122 seconds.\n",
      "95.0% done! Time elapsed = 2423.51 seconds.\n",
      "96.0% done! Time elapsed = 2446.949 seconds.\n",
      "97.0% done! Time elapsed = 2470.413 seconds.\n",
      "98.0% done! Time elapsed = 2493.87 seconds.\n",
      "99.0% done! Time elapsed = 2517.624 seconds.\n",
      "100.0% done! Time elapsed = 2541.271 seconds.\n"
     ]
    }
   ],
   "source": [
    "\n",
    "\n",
    "numCombinations = ncr(81, 4)\n",
    "combinationCount = 0\n",
    "\n",
    "rules = []\n",
    "numErrors = []\n",
    "startTime = time.time()\n",
    "\n",
    "for c in itertools.combinations(range(81), 4):\n",
    "    i = c[0]; j = c[1]; k = c[2]; l = c[3]\n",
    "    \n",
    "    yHat = np.logical_and(np.logical_and(np.logical_and(trainX[:,i] == 0, trainX[:,j]==0), trainX[:,k]==0), trainX[:,l]==0)\n",
    "    numErrors.append(sum(abs(yHat-trainY)))\n",
    "    rules.append([i, j, k, l, 0, 0, 0, 0])\n",
    "\n",
    "    yHat = np.logical_and(np.logical_and(np.logical_and(trainX[:,i] == 0, trainX[:,j]==0), trainX[:,k]==1), trainX[:,l]==0)\n",
    "    numErrors.append(sum(abs(yHat-trainY)))\n",
    "    rules.append([i, j, k, l, 0, 0, 1, 0])\n",
    "\n",
    "    yHat = np.logical_and(np.logical_and(np.logical_and(trainX[:,i] == 0, trainX[:,j]==1), trainX[:,k]==0), trainX[:,l]==0)\n",
    "    numErrors.append(sum(abs(yHat-trainY)))\n",
    "    rules.append([i, j, k, l, 0, 1, 0, 0])\n",
    "\n",
    "    yHat = np.logical_and(np.logical_and(np.logical_and(trainX[:,i] == 0, trainX[:,j]==1), trainX[:,k]==1), trainX[:,l]==0)\n",
    "    numErrors.append(sum(abs(yHat-trainY)))\n",
    "    rules.append([i, j, k, l, 0, 1, 1, 0])\n",
    "\n",
    "    yHat = np.logical_and(np.logical_and(np.logical_and(trainX[:,i] == 1, trainX[:,j]==0), trainX[:,k]==0), trainX[:,l]==0)\n",
    "    numErrors.append(sum(abs(yHat-trainY)))\n",
    "    rules.append([i, j, k, l, 1, 0, 0, 0])\n",
    "\n",
    "    yHat = np.logical_and(np.logical_and(np.logical_and(trainX[:,i] == 1, trainX[:,j]==0), trainX[:,k]==1), trainX[:,l]==0)\n",
    "    numErrors.append(sum(abs(yHat-trainY)))\n",
    "    rules.append([i, j, k, l, 1, 0, 1, 0])\n",
    "\n",
    "    yHat = np.logical_and(np.logical_and(np.logical_and(trainX[:,i] == 1, trainX[:,j]==1), trainX[:,k]==0), trainX[:,l]==0)\n",
    "    numErrors.append(sum(abs(yHat-trainY)))\n",
    "    rules.append([i, j, k, l, 1, 1, 0, 0])\n",
    "\n",
    "    yHat = np.logical_and(np.logical_and(np.logical_and(trainX[:,i] == 1, trainX[:,j]==1), trainX[:,k]==1), trainX[:,l]==0)\n",
    "    numErrors.append(sum(abs(yHat-trainY)))\n",
    "    rules.append([i, j, k, l, 1, 1, 1, 0])\n",
    "    \n",
    "    yHat = np.logical_and(np.logical_and(np.logical_and(trainX[:,i] == 0, trainX[:,j]==0), trainX[:,k]==0), trainX[:,l]==1)\n",
    "    numErrors.append(sum(abs(yHat-trainY)))\n",
    "    rules.append([i, j, k, l, 0, 0, 0, 1])\n",
    "\n",
    "    yHat = np.logical_and(np.logical_and(np.logical_and(trainX[:,i] == 0, trainX[:,j]==0), trainX[:,k]==1), trainX[:,l]==1)\n",
    "    numErrors.append(sum(abs(yHat-trainY)))\n",
    "    rules.append([i, j, k, l, 0, 0, 1, 1])\n",
    "\n",
    "    yHat = np.logical_and(np.logical_and(np.logical_and(trainX[:,i] == 0, trainX[:,j]==1), trainX[:,k]==0), trainX[:,l]==1)\n",
    "    numErrors.append(sum(abs(yHat-trainY)))\n",
    "    rules.append([i, j, k, l, 0, 1, 0, 1])\n",
    "\n",
    "    yHat = np.logical_and(np.logical_and(np.logical_and(trainX[:,i] == 0, trainX[:,j]==1), trainX[:,k]==1), trainX[:,l]==1)\n",
    "    numErrors.append(sum(abs(yHat-trainY)))\n",
    "    rules.append([i, j, k, l, 0, 1, 1, 1])\n",
    "\n",
    "    yHat = np.logical_and(np.logical_and(np.logical_and(trainX[:,i] == 1, trainX[:,j]==0), trainX[:,k]==0), trainX[:,l]==1)\n",
    "    numErrors.append(sum(abs(yHat-trainY)))\n",
    "    rules.append([i, j, k, l, 1, 0, 0, 1])\n",
    "\n",
    "    yHat = np.logical_and(np.logical_and(np.logical_and(trainX[:,i] == 1, trainX[:,j]==0), trainX[:,k]==1), trainX[:,l]==1)\n",
    "    numErrors.append(sum(abs(yHat-trainY)))\n",
    "    rules.append([i, j, k, l, 1, 0, 1, 1])\n",
    "\n",
    "    yHat = np.logical_and(np.logical_and(np.logical_and(trainX[:,i] == 1, trainX[:,j]==1), trainX[:,k]==0), trainX[:,l]==1)\n",
    "    numErrors.append(sum(abs(yHat-trainY)))\n",
    "    rules.append([i, j, k, l, 1, 1, 0, 1])\n",
    "\n",
    "    yHat = np.logical_and(np.logical_and(np.logical_and(trainX[:,i] == 1, trainX[:,j]==1), trainX[:,k]==1), trainX[:,l]==1)\n",
    "    numErrors.append(sum(abs(yHat-trainY)))\n",
    "    rules.append([i, j, k, l, 1, 1, 1, 1])\n",
    "    \n",
    "    combinationCount +=1\n",
    "    \n",
    "    #Print update each 1 percent complete:\n",
    "    if combinationCount%round((0.01*numCombinations))==0:\n",
    "        percentDone = float(len(rules))/(2**4*numCombinations)*100\n",
    "        timeElapsed = time.time()-startTime\n",
    "        print (str(round(percentDone, 0)) + '% done! Time elapsed = ' + str(round(timeElapsed, 3)) + ' seconds.')\n",
    "        combinationCount = 0"
   ]
  },
  {
   "cell_type": "code",
   "execution_count": 31,
   "metadata": {},
   "outputs": [
    {
     "data": {
      "text/plain": [
       "696513"
      ]
     },
     "execution_count": 31,
     "metadata": {},
     "output_type": "execute_result"
    }
   ],
   "source": [
    "np.argmin(np.array(numErrors))"
   ]
  },
  {
   "cell_type": "markdown",
   "metadata": {},
   "source": [
    "back to ppt"
   ]
  },
  {
   "cell_type": "code",
   "execution_count": null,
   "metadata": {},
   "outputs": [],
   "source": []
  }
 ],
 "metadata": {
  "kernelspec": {
   "display_name": "Python 3",
   "language": "python",
   "name": "python3"
  },
  "language_info": {
   "codemirror_mode": {
    "name": "ipython",
    "version": 3
   },
   "file_extension": ".py",
   "mimetype": "text/x-python",
   "name": "python",
   "nbconvert_exporter": "python",
   "pygments_lexer": "ipython3",
   "version": "3.7.3"
  },
  "latex_envs": {
   "bibliofile": "biblio.bib",
   "cite_by": "apalike",
   "current_citInitial": 1,
   "eqLabelWithNumbers": true,
   "eqNumInitial": 0
  },
  "toc": {
   "toc_cell": false,
   "toc_number_sections": true,
   "toc_threshold": 6,
   "toc_window_display": false
  }
 },
 "nbformat": 4,
 "nbformat_minor": 1
}
