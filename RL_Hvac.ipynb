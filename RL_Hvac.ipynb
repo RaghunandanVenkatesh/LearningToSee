{
  "nbformat": 4,
  "nbformat_minor": 0,
  "metadata": {
    "colab": {
      "name": "RL_Hvac.ipynb",
      "provenance": [],
      "collapsed_sections": [],
      "authorship_tag": "ABX9TyOC/6AqEUrQcApqrB4EOBQm",
      "include_colab_link": true
    },
    "kernelspec": {
      "name": "python3",
      "display_name": "Python 3"
    }
  },
  "cells": [
    {
      "cell_type": "markdown",
      "metadata": {
        "id": "view-in-github",
        "colab_type": "text"
      },
      "source": [
        "<a href=\"https://colab.research.google.com/github/RaghunandanVenkatesh/LearningToSee/blob/master/RL_Hvac.ipynb\" target=\"_parent\"><img src=\"https://colab.research.google.com/assets/colab-badge.svg\" alt=\"Open In Colab\"/></a>"
      ]
    },
    {
      "cell_type": "code",
      "metadata": {
        "id": "2YfFFC-fHwjX"
      },
      "source": [
        "import numpy as np\n",
        "import matplotlib.pyplot as plt\n",
        "from scipy.interpolate import UnivariateSpline"
      ],
      "execution_count": 1,
      "outputs": []
    },
    {
      "cell_type": "code",
      "metadata": {
        "id": "UkUpOfRnedCy"
      },
      "source": [
        "#inputs for plant\r\n",
        "T_oat = 30.0\r\n",
        "PWM_front_box = 30.0\r\n",
        "T_enginewater_set = 80.0\r\n",
        "POS_fresh_air_flap = 40.0\r\n"
      ],
      "execution_count": 12,
      "outputs": []
    },
    {
      "cell_type": "code",
      "metadata": {
        "colab": {
          "base_uri": "https://localhost:8080/"
        },
        "id": "qmqVJzY5siai",
        "outputId": "5a9a3d10-c20a-4f24-8f62-d20bf691b970"
      },
      "source": [
        "np.exp(-5)"
      ],
      "execution_count": 24,
      "outputs": [
        {
          "output_type": "execute_result",
          "data": {
            "text/plain": [
              "0.006737946999085467"
            ]
          },
          "metadata": {
            "tags": []
          },
          "execution_count": 24
        }
      ]
    },
    {
      "cell_type": "markdown",
      "metadata": {
        "id": "XE2tpubTsjMF"
      },
      "source": [
        "# Engine water temp"
      ]
    },
    {
      "cell_type": "code",
      "metadata": {
        "colab": {
          "base_uri": "https://localhost:8080/",
          "height": 797
        },
        "id": "TJHYPS64sjkm",
        "outputId": "18447178-1be4-457c-acee-c522ca1b8f38"
      },
      "source": [
        "dt = np.linspace(0,5,30)\r\n",
        "T_enginewater = []\r\n",
        "for values in dt:\r\n",
        "  if values == 0:\r\n",
        "    T_enginewater.append(T_oat)\r\n",
        "  else:\r\n",
        "    print(T_enginewater_set - T_enginewater[-1])\r\n",
        "    T_enginewater.append(T_oat + ( T_enginewater_set + T_oat - T_enginewater[-1]) * (1 - np.exp(-values))) \r\n",
        "plt.plot(dt, T_enginewater)"
      ],
      "execution_count": 31,
      "outputs": [
        {
          "output_type": "stream",
          "text": [
            "50.0\n",
            "37.33046720538268\n",
            "30.36256230525501\n",
            "25.623356011772906\n",
            "22.285610367301956\n",
            "19.79394825586334\n",
            "17.903327171238814\n",
            "16.425715175652847\n",
            "15.262056826562514\n",
            "14.328173883169299\n",
            "13.576723767585506\n",
            "12.963500294384048\n",
            "12.463493804013183\n",
            "12.05087522491587\n",
            "11.71163781814819\n",
            "11.429462874904146\n",
            "11.19630033839644\n",
            "11.001185644621756\n",
            "10.839526825296161\n",
            "10.703565394580636\n",
            "10.590824976482338\n",
            "10.495556470433911\n",
            "10.416629680415866\n",
            "10.349598003933536\n",
            "10.294213299731325\n",
            "10.246894391958321\n",
            "10.207983721800957\n",
            "10.174485598291255\n",
            "10.14714419685167\n"
          ],
          "name": "stdout"
        },
        {
          "output_type": "execute_result",
          "data": {
            "text/plain": [
              "[<matplotlib.lines.Line2D at 0x7f0b5d010d10>]"
            ]
          },
          "metadata": {
            "tags": []
          },
          "execution_count": 31
        },
        {
          "output_type": "display_data",
          "data": {
            "image/png": "[encoded data removed]",
            "text/plain": [
              "<Figure size 432x288 with 1 Axes>"
            ]
          },
          "metadata": {
            "tags": [],
            "needs_background": "light"
          }
        }
      ]
    },
    {
      "cell_type": "markdown",
      "metadata": {
        "id": "4_6rwTCte2hR"
      },
      "source": [
        "# Airoutlet temperature"
      ]
    },
    {
      "cell_type": "code",
      "metadata": {
        "colab": {
          "base_uri": "https://localhost:8080/"
        },
        "id": "MBn2yekYcpVy",
        "outputId": "4cc5af7f-84a6-47dd-9ad4-ae4d8f2f7a1b"
      },
      "source": [
        "water_val_pos_list = np.array([0, 10, 20, 30, 40, 50, 60, 70, 80, 90, 100])\r\n",
        "A_list = np.array([0, 0.6011, .61, 0.6, 1.88, 1.88, 2.1, 2.1, 2.1, 2.5, 3.5])\r\n",
        "lookup = UnivariateSpline(water_val_pos_list, A_list, k=1, s=0.0)\r\n",
        "print(lookup(20))\r\n",
        "T_fap = T_oat"
      ],
      "execution_count": 9,
      "outputs": [
        {
          "output_type": "stream",
          "text": [
            "0.61\n"
          ],
          "name": "stdout"
        }
      ]
    },
    {
      "cell_type": "code",
      "metadata": {
        "id": "dttxVWagH2yJ"
      },
      "source": [
        "T_air_in = T_oat * POS_fresh_air_flap/100 + T_fap * (1 - POS_fresh_air_flap/100)\n",
        "A = lookup(POS_fresh_air_flap)\n",
        "eff = 1 - np.exp(-POS_fresh_air_flap*A/100)\n",
        "T_airout = T_air_in + (T_enginewater - T_air_in) * eff"
      ],
      "execution_count": 10,
      "outputs": []
    },
    {
      "cell_type": "markdown",
      "metadata": {
        "id": "-ZlZ-Mlwe62I"
      },
      "source": [
        "# room temperature "
      ]
    },
    {
      "cell_type": "code",
      "metadata": {
        "id": "Lb_KiJtjfpJY"
      },
      "source": [
        "# initialization\r\n",
        "hA_screen = 0.0007\r\n",
        "hA_shell = 0.0029\r\n",
        "convfactor = 0.0016\r\n",
        "mcp_shell = 0.83\r\n",
        "dt = 1 # sample time\r\n",
        "T_shell = T_oat\r\n",
        "\r\n"
      ],
      "execution_count": 5,
      "outputs": []
    },
    {
      "cell_type": "code",
      "metadata": {
        "id": "0gy1fz8deTeU"
      },
      "source": [
        "T_screen = T_oat\r\n",
        "d_T_fap = hA_screen * (T_screen - T_fap) + hA_shell * (T_shell - T_fap)\r\n",
        "d_T_fap += PWM_front_box * convfactor * 0.718 * (T_airout - T_fap)\r\n",
        "T_fap = d_T_fap * dt + T_fap\r\n",
        "T_shell = T_shell - hA_shell * (T_shell - T_fap)/mcp_shell"
      ],
      "execution_count": 6,
      "outputs": []
    },
    {
      "cell_type": "code",
      "metadata": {
        "id": "IWyxvD0f9RZE"
      },
      "source": [
        ""
      ],
      "execution_count": 6,
      "outputs": []
    }
  ]
}