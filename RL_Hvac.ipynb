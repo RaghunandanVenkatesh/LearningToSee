{
  "nbformat": 4,
  "nbformat_minor": 0,
  "metadata": {
    "colab": {
      "name": "RL_Hvac.ipynb",
      "provenance": [],
      "collapsed_sections": [],
      "authorship_tag": "ABX9TyNUzluhUo1jteBkz2n1aU/C",
      "include_colab_link": true
    },
    "kernelspec": {
      "name": "python3",
      "display_name": "Python 3"
    }
  },
  "cells": [
    {
      "cell_type": "markdown",
      "metadata": {
        "id": "view-in-github",
        "colab_type": "text"
      },
      "source": [
        "<a href=\"https://colab.research.google.com/github/RaghunandanVenkatesh/LearningToSee/blob/master/RL_Hvac.ipynb\" target=\"_parent\"><img src=\"https://colab.research.google.com/assets/colab-badge.svg\" alt=\"Open In Colab\"/></a>"
      ]
    },
    {
      "cell_type": "code",
      "metadata": {
        "id": "2YfFFC-fHwjX"
      },
      "source": [
        "import numpy as np\n",
        "import matplotlib.pyplot as plt\n",
        "from scipy.interpolate import UnivariateSpline"
      ],
      "execution_count": 2,
      "outputs": []
    },
    {
      "cell_type": "code",
      "metadata": {
        "id": "UkUpOfRnedCy"
      },
      "source": [
        "#inputs for plant\r\n",
        "T_oat = 30.0\r\n",
        "PWM_front_box = 30.0\r\n",
        "T_enginewater_set = 80.0\r\n",
        "POS_fresh_air_flap = 40.0\r\n",
        "value = 0\r\n",
        "dt = 1 # sample time"
      ],
      "execution_count": null,
      "outputs": []
    },
    {
      "cell_type": "code",
      "metadata": {
        "id": "qmqVJzY5siai"
      },
      "source": [
        "# initialization \r\n",
        "water_val_pos_list = np.array([0, 10, 20, 30, 40, 50, 60, 70, 80, 90, 100])\r\n",
        "A_list = np.array([0, 0.6011, .61, 0.6, 1.88, 1.88, 2.1, 2.1, 2.1, 2.5, 3.5])\r\n",
        "lookup = UnivariateSpline(water_val_pos_list, A_list, k=1, s=0.0)\r\n",
        "T_enginewater = T_oat\r\n",
        "T_fap = T_oat\r\n",
        "hA_screen = 0.0007\r\n",
        "hA_shell = 0.0029\r\n",
        "convfactor = 0.0016\r\n",
        "mcp_shell = 0.83\r\n",
        "T_shell = T_oat\r\n",
        "T_set = 24\r\n"
      ],
      "execution_count": null,
      "outputs": []
    },
    {
      "cell_type": "markdown",
      "metadata": {
        "id": "XE2tpubTsjMF"
      },
      "source": [
        "# Engine water temp"
      ]
    },
    {
      "cell_type": "code",
      "metadata": {
        "id": "TJHYPS64sjkm"
      },
      "source": [
        "T_enginewater = T_oat + ( T_enginewater_set + T_oat - T_enginewater) * (1 - np.exp(-value)) \r\n",
        "value = np.min([value+0.002, 5]) "
      ],
      "execution_count": null,
      "outputs": []
    },
    {
      "cell_type": "markdown",
      "metadata": {
        "id": "4_6rwTCte2hR"
      },
      "source": [
        "# Airoutlet temperature"
      ]
    },
    {
      "cell_type": "code",
      "metadata": {
        "id": "dttxVWagH2yJ"
      },
      "source": [
        "T_air_in = T_oat * POS_fresh_air_flap/100 + T_fap * (1 - POS_fresh_air_flap/100)\n",
        "A = lookup(POS_fresh_air_flap)\n",
        "eff = 1 - np.exp(-POS_fresh_air_flap*A/100)\n",
        "T_airout = T_air_in + (T_enginewater - T_air_in) * eff"
      ],
      "execution_count": null,
      "outputs": []
    },
    {
      "cell_type": "markdown",
      "metadata": {
        "id": "-ZlZ-Mlwe62I"
      },
      "source": [
        "# room temperature "
      ]
    },
    {
      "cell_type": "code",
      "metadata": {
        "id": "0gy1fz8deTeU"
      },
      "source": [
        "d_T_fap = hA_screen * (T_oat - T_fap) + hA_shell * (T_shell - T_fap)\r\n",
        "d_T_fap += PWM_front_box * convfactor * 0.718 * (T_airout - T_fap)\r\n",
        "T_fap = d_T_fap * dt + T_fap\r\n",
        "T_shell = T_shell - hA_shell * (T_shell - T_fap)/mcp_shell"
      ],
      "execution_count": null,
      "outputs": []
    },
    {
      "cell_type": "code",
      "metadata": {
        "id": "IWyxvD0f9RZE"
      },
      "source": [
        "class Environment:\r\n",
        "  def __init__(self, T_oat, PWM_front_box, T_enginewater_set, POS_fresh_air_flap, T_set ):\r\n",
        "      self.T_oat = T_oat\r\n",
        "      self.PWM_front_box = PWM_front_box\r\n",
        "      self.T_enginewater_set = T_enginewater_set\r\n",
        "      self.POS_fresh_air_flap = POS_fresh_air_flap\r\n",
        "      self.value = 0\r\n",
        "      self.dt = 1 # sample time\r\n",
        "      self.T_set = T_set\r\n",
        "      # initialization \r\n",
        "      water_val_pos_list = np.array([0, 10, 20, 30, 40, 50, 60, 70, 80, 90, 100])\r\n",
        "      A_list = np.array([0, 0.6011, .61, 0.6, 1.88, 1.88, 2.1, 2.1, 2.1, 2.5, 3.5])\r\n",
        "      self.lookup = UnivariateSpline(water_val_pos_list, A_list, k=1, s=0.0)\r\n",
        "      self.T_enginewater = T_oat\r\n",
        "      self.T_fap = T_oat\r\n",
        "      self.hA_screen = 0.0007\r\n",
        "      self.hA_shell = 0.0029\r\n",
        "      self.convfactor = 0.0016\r\n",
        "      self.mcp_shell = 0.83\r\n",
        "      self.T_shell = T_oat\r\n",
        "\r\n",
        "  def step(self):\r\n",
        "      # engine water temp\r\n",
        "      self.T_enginewater = self.T_oat + ( self.T_enginewater_set + self.T_oat - self.T_enginewater) * (1 - np.exp(-self.value)) \r\n",
        "      self.value = np.min([self.value+0.002, 5])\r\n",
        "      # air outlet temp\r\n",
        "      T_air_in = self.T_oat * self.POS_fresh_air_flap/100 + self.T_fap * (1 - self.POS_fresh_air_flap/100)\r\n",
        "      A = self.lookup(self.POS_fresh_air_flap)\r\n",
        "      eff = 1 - np.exp(-self.POS_fresh_air_flap*A/100)\r\n",
        "      T_airout = T_air_in + (self.T_enginewater - T_air_in) * eff \r\n",
        "      # room temperature\r\n",
        "      d_T_fap = self.hA_screen * (self.T_oat - self.T_fap) + self.hA_shell * (self.T_shell - self.T_fap)\r\n",
        "      d_T_fap += self.PWM_front_box * self.convfactor * 0.718 * (T_airout - self.T_fap)\r\n",
        "      self.T_fap = d_T_fap * dt + self.T_fap\r\n",
        "      self.T_shell = self.T_shell - self.hA_shell * (self.T_shell - self.T_fap)/self.mcp_shell    \r\n",
        "\r\n",
        "      #reward\r\n",
        "      reward = -(self.T_set - self.T_fap)**2\r\n",
        "      observation = [self.T_fap]\r\n",
        "      info = False\r\n",
        "      return observation, reward, info\r\n",
        "\r\n",
        "  def reset(self):\r\n",
        "    self.T_shell = T_oat\r\n",
        "    self.T_fap = T_oat\r\n",
        "    self.T_enginewater = T_oat\r\n",
        "    observation = [self.T_fap]\r\n",
        "    return observation                     "
      ],
      "execution_count": null,
      "outputs": []
    },
    {
      "cell_type": "code",
      "metadata": {
        "id": "1gfDie52LfwN"
      },
      "source": [
        "upper_temp_fap = 60\r\n",
        "min_temp_fap = -40\r\n",
        "env = Environment( T_oat, PWM_front_box, T_enginewater_set, POS_fresh_air_flap, T_set )"
      ],
      "execution_count": null,
      "outputs": []
    },
    {
      "cell_type": "code",
      "metadata": {
        "colab": {
          "base_uri": "https://localhost:8080/"
        },
        "id": "Wo8QIUFNiKy5",
        "outputId": "d3eb8b3f-438f-4633-d1cd-e0c201c21a14"
      },
      "source": [
        "env.step()"
      ],
      "execution_count": null,
      "outputs": [
        {
          "output_type": "execute_result",
          "data": {
            "text/plain": [
              "([30.0], -36.0, False)"
            ]
          },
          "metadata": {
            "tags": []
          },
          "execution_count": 8
        }
      ]
    },
    {
      "cell_type": "code",
      "metadata": {
        "id": "VoR3IV9qiY2a"
      },
      "source": [
        "import math\n",
        "import gym\n",
        "from gym import spaces, logger\n",
        "from gym.utils import seeding\n",
        "import numpy as np"
      ],
      "execution_count": 1,
      "outputs": []
    },
    {
      "cell_type": "code",
      "metadata": {
        "id": "xlbAVjS_jHFt"
      },
      "source": [
        "class HvacPlantEnv(gym.Env):\n",
        "  '''\n",
        "  Description:\n",
        "  this environment is used as a digital bus temperature model. It has 2 inputs.\n",
        "  1st input is a outside air temperature (T_oat) from sensor\n",
        "  2nd input is a set temperature (T_set) from driver\n",
        "\n",
        "  Observation:\n",
        "  Type: Box(1)\n",
        "  Num     Observation               Min                     Max\n",
        "  0       T_fap                     -40                     80\n",
        "\n",
        "  Actions:\n",
        "  Type: Tuple(2)\n",
        "  Num     Observation                            Type\n",
        "  0       value of POS_fresh_air_flap            Discrete(10)\n",
        "  1       value of PWM_front_box                 Discrete(100)\n",
        "\n",
        "  Reward:\n",
        "  reward is a squared error loss between T_set and T_fap           \n",
        "\n",
        "  Starting_state:\n",
        "  all the initial temperature values are equal to T_aot\n",
        "\n",
        "  Episode termination:\n",
        "  When T_fap is equal to T_set for atleast 10000 cycles\n",
        "  '''\n",
        "\n",
        "  def __init__(self):\n",
        "    self.dt = 1 # sample time\n",
        "    # initialization \n",
        "    water_val_pos_list = np.array([0, 10, 20, 30, 40, 50, 60, 70, 80, 90, 100])\n",
        "    A_list = np.array([0, 0.6011, .61, 0.6, 1.88, 1.88, 2.1, 2.1, 2.1, 2.5, 3.5])\n",
        "    self.lookup = UnivariateSpline(water_val_pos_list, A_list, k=1, s=0.0)\n",
        "    self.hA_screen = 0.0007\n",
        "    self.hA_shell = 0.0029\n",
        "    self.convfactor = 0.0016\n",
        "    self.mcp_shell = 0.83\n",
        "    self.T_oat = 0\n",
        "    self.T_enginewater_set = 0\n",
        "    self.action_space = spaces.Tuple((\n",
        "                            spaces.Discrete(10),\n",
        "                            spaces.Discrete(100)))\n",
        "    self.observation_space = spaces.Box(-40, 80, shape=(1,) ,dtype=np.float32)\n",
        "\n",
        "\n",
        "    self.state = None\n",
        "\n",
        "    self.steps_beyond_done = None\n",
        "\n",
        "    def step(self, action):\n",
        "        T_shell, T_fap, T_enginewater, value = self.state\n",
        "        POS_fresh_air_flap = action[0]*10\n",
        "        PWM_front_box = action[1]\n",
        "        # engine water temp\n",
        "        T_enginewater = self.T_oat + ( self.T_enginewater_set + self.T_oat - T_enginewater) * (1 - np.exp(-value)) \n",
        "        value = np.min([value+0.002, 5])\n",
        "        # air outlet temp\n",
        "        T_air_in = self.T_oat * POS_fresh_air_flap/100 + T_fap * (1 - POS_fresh_air_flap/100)\n",
        "        A = self.lookup(POS_fresh_air_flap)\n",
        "        eff = 1 - np.exp(-POS_fresh_air_flap*A/100)\n",
        "        T_airout = T_air_in + (T_enginewater - T_air_in) * eff \n",
        "        # room temperature\n",
        "        d_T_fap = self.hA_screen * (self.T_oat - T_fap) + self.hA_shell * (self.T_shell - T_fap)\n",
        "        d_T_fap += PWM_front_box * self.convfactor * 0.718 * (T_airout - T_fap)\n",
        "        T_fap = d_T_fap * dt + T_fap\n",
        "        T_shell = T_shell - self.hA_shell * (T_shell - T_fap)/self.mcp_shell \n",
        "        self.state = (T_shell, T_fap, T_enginewater, value)   \n",
        "\n",
        "        #reward\n",
        "        done  = self.T_set == T_fap\n",
        "        if not done:\n",
        "          reward = (self.T_set - T_fap)**2\n",
        "        elif self.steps_beyond_done is  None:\n",
        "          self.steps_beyond_done = 0\n",
        "          reward = (self.T_set - T_fap)**2\n",
        "        else:\n",
        "          if self.steps_beyond_done == 0:\n",
        "                print(\n",
        "                    \"You are calling 'step()' even though this \"\n",
        "                    \"environment has already returned done = True. You \"\n",
        "                    \"should always call 'reset()' once you receive 'done = \"\n",
        "                    \"True' -- any further steps are undefined behavior.\"\n",
        "                )\n",
        "          self.steps_beyond_done += 1\n",
        "          reward = 0.0\n",
        "        return np.array(self.state), reward, done, {} \n",
        "\n",
        "    def reset(self, T_oat, T_enginewater_set):\n",
        "      self.T_oat = T_oat\n",
        "      self.T_enginewater_set = T_enginewater\n",
        "      self.state = [T_oat, T_oat, T_oat, 0]\n",
        "      self.steps_beyond_done = None\n",
        "      return np.array(self.state)"
      ],
      "execution_count": 9,
      "outputs": []
    },
    {
      "cell_type": "code",
      "metadata": {
        "id": "dGCVSFnBu2Tz",
        "colab": {
          "base_uri": "https://localhost:8080/",
          "height": 221
        },
        "outputId": "1b081202-ac88-4944-d7f9-18ebbe6c3134"
      },
      "source": [
        "action = spaces.Tuple((spaces.Discrete(10), spaces.Discrete(100)))\r\n",
        "env_h = HvacPlantEnv()\r\n",
        "env_h.reset(24,40)\r\n",
        "env_h.step(action)"
      ],
      "execution_count": 11,
      "outputs": [
        {
          "output_type": "error",
          "ename": "TypeError",
          "evalue": "ignored",
          "traceback": [
            "\u001b[0;31m---------------------------------------------------------------------------\u001b[0m",
            "\u001b[0;31mTypeError\u001b[0m                                 Traceback (most recent call last)",
            "\u001b[0;32m<ipython-input-11-de0c4e5e27b3>\u001b[0m in \u001b[0;36m<module>\u001b[0;34m()\u001b[0m\n\u001b[1;32m      1\u001b[0m \u001b[0maction\u001b[0m \u001b[0;34m=\u001b[0m \u001b[0mspaces\u001b[0m\u001b[0;34m.\u001b[0m\u001b[0mTuple\u001b[0m\u001b[0;34m(\u001b[0m\u001b[0;34m(\u001b[0m\u001b[0mspaces\u001b[0m\u001b[0;34m.\u001b[0m\u001b[0mDiscrete\u001b[0m\u001b[0;34m(\u001b[0m\u001b[0;36m10\u001b[0m\u001b[0;34m)\u001b[0m\u001b[0;34m,\u001b[0m \u001b[0mspaces\u001b[0m\u001b[0;34m.\u001b[0m\u001b[0mDiscrete\u001b[0m\u001b[0;34m(\u001b[0m\u001b[0;36m100\u001b[0m\u001b[0;34m)\u001b[0m\u001b[0;34m)\u001b[0m\u001b[0;34m)\u001b[0m\u001b[0;34m\u001b[0m\u001b[0;34m\u001b[0m\u001b[0m\n\u001b[1;32m      2\u001b[0m \u001b[0menv_h\u001b[0m \u001b[0;34m=\u001b[0m \u001b[0mHvacPlantEnv\u001b[0m\u001b[0;34m(\u001b[0m\u001b[0;34m)\u001b[0m\u001b[0;34m\u001b[0m\u001b[0;34m\u001b[0m\u001b[0m\n\u001b[0;32m----> 3\u001b[0;31m \u001b[0menv_h\u001b[0m\u001b[0;34m.\u001b[0m\u001b[0mreset\u001b[0m\u001b[0;34m(\u001b[0m\u001b[0;36m24\u001b[0m\u001b[0;34m,\u001b[0m\u001b[0;36m40\u001b[0m\u001b[0;34m)\u001b[0m\u001b[0;34m\u001b[0m\u001b[0;34m\u001b[0m\u001b[0m\n\u001b[0m\u001b[1;32m      4\u001b[0m \u001b[0menv_h\u001b[0m\u001b[0;34m.\u001b[0m\u001b[0mstep\u001b[0m\u001b[0;34m(\u001b[0m\u001b[0maction\u001b[0m\u001b[0;34m)\u001b[0m\u001b[0;34m\u001b[0m\u001b[0;34m\u001b[0m\u001b[0m\n",
            "\u001b[0;31mTypeError\u001b[0m: reset() takes 1 positional argument but 3 were given"
          ]
        }
      ]
    },
    {
      "cell_type": "code",
      "metadata": {
        "id": "hd5imTK3F6hB"
      },
      "source": [
        ""
      ],
      "execution_count": null,
      "outputs": []
    }
  ]
}