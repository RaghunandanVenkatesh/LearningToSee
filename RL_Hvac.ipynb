{
  "nbformat": 4,
  "nbformat_minor": 0,
  "metadata": {
    "colab": {
      "name": "RL_Hvac.ipynb",
      "provenance": [],
      "collapsed_sections": [],
      "authorship_tag": "ABX9TyMISD61rmqkFusKs+TTrC31",
      "include_colab_link": true
    },
    "kernelspec": {
      "name": "python3",
      "display_name": "Python 3"
    }
  },
  "cells": [
    {
      "cell_type": "markdown",
      "metadata": {
        "id": "view-in-github",
        "colab_type": "text"
      },
      "source": [
        "<a href=\"https://colab.research.google.com/github/RaghunandanVenkatesh/LearningToSee/blob/master/RL_Hvac.ipynb\" target=\"_parent\"><img src=\"https://colab.research.google.com/assets/colab-badge.svg\" alt=\"Open In Colab\"/></a>"
      ]
    },
    {
      "cell_type": "code",
      "metadata": {
        "id": "2YfFFC-fHwjX"
      },
      "source": [
        "import numpy as np\n",
        "import matplotlib.pyplot as plt\n",
        "from scipy.interpolate import UnivariateSpline"
      ],
      "execution_count": 1,
      "outputs": []
    },
    {
      "cell_type": "code",
      "metadata": {
        "id": "UkUpOfRnedCy"
      },
      "source": [
        "#inputs for plant\r\n",
        "T_oat = 30.0\r\n",
        "PWM_front_box = 30.0\r\n",
        "T_enginewater_set = 80.0\r\n",
        "POS_fresh_air_flap = 40.0\r\n",
        "value = 0\r\n",
        "dt = 1 # sample time"
      ],
      "execution_count": 2,
      "outputs": []
    },
    {
      "cell_type": "code",
      "metadata": {
        "id": "qmqVJzY5siai"
      },
      "source": [
        "# initialization \r\n",
        "water_val_pos_list = np.array([0, 10, 20, 30, 40, 50, 60, 70, 80, 90, 100])\r\n",
        "A_list = np.array([0, 0.6011, .61, 0.6, 1.88, 1.88, 2.1, 2.1, 2.1, 2.5, 3.5])\r\n",
        "lookup = UnivariateSpline(water_val_pos_list, A_list, k=1, s=0.0)\r\n",
        "T_enginewater = T_oat\r\n",
        "T_fap = T_oat\r\n",
        "hA_screen = 0.0007\r\n",
        "hA_shell = 0.0029\r\n",
        "convfactor = 0.0016\r\n",
        "mcp_shell = 0.83\r\n",
        "T_shell = T_oat\r\n"
      ],
      "execution_count": 3,
      "outputs": []
    },
    {
      "cell_type": "markdown",
      "metadata": {
        "id": "XE2tpubTsjMF"
      },
      "source": [
        "# Engine water temp"
      ]
    },
    {
      "cell_type": "code",
      "metadata": {
        "id": "TJHYPS64sjkm"
      },
      "source": [
        "T_enginewater = T_oat + ( T_enginewater_set + T_oat - T_enginewater) * (1 - np.exp(-value)) \r\n",
        "value = np.min([value+0.002, 5]) "
      ],
      "execution_count": 4,
      "outputs": []
    },
    {
      "cell_type": "markdown",
      "metadata": {
        "id": "4_6rwTCte2hR"
      },
      "source": [
        "# Airoutlet temperature"
      ]
    },
    {
      "cell_type": "code",
      "metadata": {
        "id": "dttxVWagH2yJ"
      },
      "source": [
        "T_air_in = T_oat * POS_fresh_air_flap/100 + T_fap * (1 - POS_fresh_air_flap/100)\n",
        "A = lookup(POS_fresh_air_flap)\n",
        "eff = 1 - np.exp(-POS_fresh_air_flap*A/100)\n",
        "T_airout = T_air_in + (T_enginewater - T_air_in) * eff"
      ],
      "execution_count": 5,
      "outputs": []
    },
    {
      "cell_type": "markdown",
      "metadata": {
        "id": "-ZlZ-Mlwe62I"
      },
      "source": [
        "# room temperature "
      ]
    },
    {
      "cell_type": "code",
      "metadata": {
        "id": "0gy1fz8deTeU"
      },
      "source": [
        "d_T_fap = hA_screen * (T_oat - T_fap) + hA_shell * (T_shell - T_fap)\r\n",
        "d_T_fap += PWM_front_box * convfactor * 0.718 * (T_airout - T_fap)\r\n",
        "T_fap = d_T_fap * dt + T_fap\r\n",
        "T_shell = T_shell - hA_shell * (T_shell - T_fap)/mcp_shell"
      ],
      "execution_count": 7,
      "outputs": []
    },
    {
      "cell_type": "code",
      "metadata": {
        "id": "IWyxvD0f9RZE"
      },
      "source": [
        "class Environment:\r\n",
        "  def __init__(self, T_oat, PWM_front_box, T_enginewater_set, POS_fresh_air_flap, T_set ):\r\n",
        "      self.T_oat = T_oat\r\n",
        "      self.PWM_front_box = PWM_front_box\r\n",
        "      self.T_enginewater_set = T_enginewater_set\r\n",
        "      self.POS_fresh_air_flap = POS_fresh_air_flap\r\n",
        "      self.value = 0\r\n",
        "      self.dt = 1 # sample time\r\n",
        "      # initialization \r\n",
        "      water_val_pos_list = np.array([0, 10, 20, 30, 40, 50, 60, 70, 80, 90, 100])\r\n",
        "      A_list = np.array([0, 0.6011, .61, 0.6, 1.88, 1.88, 2.1, 2.1, 2.1, 2.5, 3.5])\r\n",
        "      self.lookup = UnivariateSpline(water_val_pos_list, A_list, k=1, s=0.0)\r\n",
        "      self.T_enginewater = T_oat\r\n",
        "      self.T_fap = T_oat\r\n",
        "      self.hA_screen = 0.0007\r\n",
        "      self.hA_shell = 0.0029\r\n",
        "      self.convfactor = 0.0016\r\n",
        "      self.mcp_shell = 0.83\r\n",
        "      self.T_shell = T_oat\r\n",
        "\r\n",
        "  def step(self):\r\n",
        "      # engine water temp\r\n",
        "      self.T_enginewater = self.T_oat + ( self.T_enginewater_set + self.T_oat - self.T_enginewater) * (1 - np.exp(-self.value)) \r\n",
        "      self.value = np.min([self.value+0.002, 5])\r\n",
        "      # air outlet temp\r\n",
        "      T_air_in = self.T_oat * self.POS_fresh_air_flap/100 + self.T_fap * (1 - self.POS_fresh_air_flap/100)\r\n",
        "      A = self.lookup(self.POS_fresh_air_flap)\r\n",
        "      eff = 1 - np.exp(-self.POS_fresh_air_flap*A/100)\r\n",
        "      T_airout = T_air_in + (self.T_enginewater - T_air_in) * eff \r\n",
        "      # room temperature\r\n",
        "      d_T_fap = self.hA_screen * (self.T_oat - self.T_fap) + self.hA_shell * (self.T_shell - self.T_fap)\r\n",
        "      d_T_fap += self.PWM_front_box * self.convfactor * 0.718 * (T_airout - self.T_fap)\r\n",
        "      self.T_fap = d_T_fap * dt + self.T_fap\r\n",
        "      self.T_shell = self.T_shell - self.hA_shell * (self.T_shell - self.T_fap)/self.mcp_shell    \r\n",
        "\r\n",
        "      #reward\r\n",
        "      reward = -(self.T_set - self.T_fap)**2\r\n",
        "      observation = [self.T_fap]\r\n",
        "      info = False\r\n",
        "      return observation, reward, info\r\n",
        "\r\n",
        "  def reset(self):\r\n",
        "    self.T_shell = T_oat\r\n",
        "    self.T_fap = T_oat\r\n",
        "    self.T_enginewater = T_oat\r\n",
        "    observation = [self.T_fap]\r\n",
        "    return observation                     "
      ],
      "execution_count": 9,
      "outputs": []
    },
    {
      "cell_type": "code",
      "metadata": {
        "id": "1gfDie52LfwN"
      },
      "source": [
        "upper_temp_fap = 60\r\n",
        "min_temp_fap = -40\r\n"
      ],
      "execution_count": null,
      "outputs": []
    }
  ]
}